{
  "nbformat": 4,
  "nbformat_minor": 0,
  "metadata": {
    "colab": {
      "name": "BB.ipynb",
      "version": "0.3.2",
      "provenance": [],
      "collapsed_sections": [],
      "toc_visible": true
    },
    "language_info": {
      "codemirror_mode": {
        "name": "ipython",
        "version": 2
      },
      "file_extension": ".py",
      "mimetype": "text/x-python",
      "name": "python",
      "nbconvert_exporter": "python",
      "pygments_lexer": "ipython2",
      "version": "2.7.16"
    },
    "kernelspec": {
      "display_name": "Python 2",
      "language": "python",
      "name": "python2"
    }
  },
  "cells": [
    {
      "cell_type": "code",
      "metadata": {
        "id": "kT4Axh7CTEGr",
        "colab_type": "code",
        "colab": {}
      },
      "source": [
        "import load\n",
        "S,c = load.loadFile(\"nl01-51.txt\")\n",
        "\n",
        "data_value = c \n",
        "data_item = [str(i) for i in range(len(data_value))]\n",
        "data_weight =  [1 for i in range(len(data_value))] "
      ],
      "execution_count": 0,
      "outputs": []
    },
    {
      "cell_type": "code",
      "metadata": {
        "id": "kNZLtSBzROUw",
        "colab_type": "code",
        "colab": {
          "base_uri": "https://localhost:8080/",
          "height": 69
        },
        "outputId": "c4e4b0ba-0e2e-4b09-9b39-503c3ca023da"
      },
      "source": [
        "\n",
        "data_sorted = sorted(zip(data_item, data_weight, data_value),\n",
        "                     key=lambda (i, w, v): v//w, reverse=True)\n",
        "\n",
        "max_weight = 3\n",
        "\n",
        "\n",
        "class State(object):\n",
        "    def __init__(self, level, benefit, weight, token):\n",
        "        # token = list marking if a task is token. ex. [1, 0, 0] means\n",
        "        # item0 token, item1 non-token, item2 non-token\n",
        "        # available = list marking all tasks available, i.e. not explored yet\n",
        "        self.level = level\n",
        "        self.benefit = benefit\n",
        "        self.weight = weight\n",
        "        self.token = token\n",
        "        self.available = self.token[:self.level]+[1]*(len(data_sorted)-level)\n",
        "        self.ub = self.upperbound()\n",
        "\n",
        "    def upperbound(self):  # define upperbound using fractional knaksack\n",
        "        upperbound = 0  # initial upperbound\n",
        "        # accumulated weight used to stop the upperbound summation\n",
        "        weight_accumulate = 0\n",
        "        for avail, (_, wei, val) in zip(self.available, data_sorted):\n",
        "            if wei * avail <= max_weight - weight_accumulate:\n",
        "                weight_accumulate += wei * avail\n",
        "                upperbound += val * avail\n",
        "            else:\n",
        "                upperbound += val * (max_weight - weight_accumulate) / wei * avail\n",
        "                break\n",
        "        return upperbound\n",
        "\n",
        "    def develop(self):\n",
        "        level = self.level + 1\n",
        "        _, weight, value = data_sorted[self.level]\n",
        "        left_weight = self.weight + weight\n",
        "        if left_weight <= max_weight:  # if not overweighted, give left child\n",
        "            left_benefit = self.benefit + value\n",
        "            left_token = self.token[:self.level]+[1]+self.token[level:]\n",
        "            left_child = State(level, left_benefit, left_weight, left_token)\n",
        "        else:\n",
        "            left_child = None\n",
        "        # anyway, give right child\n",
        "        right_child = State(level, self.benefit, self.weight, self.token)\n",
        "        return ([] if left_child is None else [left_child]) + [right_child]\n",
        "\n",
        "\n",
        "Root = State(0, 0, 0, [0] * len(data_sorted))  # start with nothing\n",
        "waiting_States = []  # list of States waiting to be explored\n",
        "current_state = Root\n",
        "while current_state.level < len(data_sorted):\n",
        "    waiting_States.extend(current_state.develop())\n",
        "    # sort the waiting list based on their upperbound\n",
        "    waiting_States.sort(key=lambda x: x.ub)\n",
        "    # explore the one with largest upperbound\n",
        "    current_state = waiting_States.pop()\n",
        "best_item = [item for tok, (item, _, _)\n",
        "             in zip(current_state.token, data_sorted) if tok == 1]\n",
        "\n",
        "print \"Total weight: \", current_state.weight\n",
        "print \"Total Value: \", current_state.benefit\n",
        "print \"Items:\", best_item"
      ],
      "execution_count": 12,
      "outputs": [
        {
          "output_type": "stream",
          "text": [
            "Total weight:  3\n",
            "Total Value:  93.0\n",
            "Items: ['24', '26', '29']\n"
          ],
          "name": "stdout"
        }
      ]
    },
    {
      "cell_type": "code",
      "metadata": {
        "id": "lJiuprbeZwYM",
        "colab_type": "code",
        "colab": {}
      },
      "source": [
        ""
      ],
      "execution_count": 0,
      "outputs": []
    },
    {
      "cell_type": "code",
      "metadata": {
        "id": "r9WoaKhMZwSz",
        "colab_type": "code",
        "colab": {}
      },
      "source": [
        ""
      ],
      "execution_count": 0,
      "outputs": []
    },
    {
      "cell_type": "markdown",
      "metadata": {
        "id": "BIlHCQobZxH0",
        "colab_type": "text"
      },
      "source": [
        "Teste"
      ]
    },
    {
      "cell_type": "code",
      "metadata": {
        "id": "sAsmvFu-hLl7",
        "colab_type": "code",
        "colab": {}
      },
      "source": [
        "data_value = [150, 35, 200, 160, 60, 45, 60, 40, 30, 10, 70, 30, 15, 10, 40,\n",
        "              70, 75, 80, 20, 12, 50, 10]\n",
        "data_item = [str(i) for i in range(len(data_value))]\n",
        "data_sorted = sorted(zip(data_item, data_value),\n",
        "                     key=lambda (i,v): v, reverse=True)\n",
        "\n",
        "max_weight = 400\n",
        "\n",
        "\n",
        "class State(object):\n",
        "    def __init__(self, level, benefit, weight, token):\n",
        "        # token = list marking if a task is token. ex. [1, 0, 0] means\n",
        "        # item0 token, item1 non-token, item2 non-token\n",
        "        # available = list marking all tasks available, i.e. not explored yet\n",
        "        self.level = level\n",
        "        self.benefit = benefit\n",
        "        #self.weight = weight\n",
        "        self.token = token\n",
        "        self.available = self.token[:self.level]+[1]*(len(data_sorted)-level)\n",
        "        self.ub = self.upperbound()\n",
        "\n",
        "    def upperbound(self):  # define upperbound using fractional knaksack\n",
        "        upperbound = 0  # initial upperbound\n",
        "        # accumulated weight used to stop the upperbound summation\n",
        "        weight_accumulate = 0\n",
        "        for avail, (_, val) in zip(self.available, data_sorted):\n",
        "            upperbound += val * avail\n",
        "        return upperbound\n",
        "\n",
        "    def develop(self):\n",
        "        level = self.level + 1\n",
        "        _, value = data_sorted[self.level]\n",
        "        left_benefit = self.benefit + value\n",
        "        left_token = self.token[:self.level]+[1]+self.token[level:]\n",
        "        left_child = State(level, left_benefit, left_token)\n",
        "        \n",
        "        # anyway, give right child\n",
        "        right_child = State(level, self.benefit, self.token)\n",
        "        return ([] if left_child is None else [left_child]) + [right_child]\n",
        "\n",
        "\n",
        "Root = State(0, 0, 0, [0] * len(data_sorted))  # start with nothing\n",
        "waiting_States = []  # list of States waiting to be explored\n",
        "current_state = Root\n",
        "while current_state.level < len(data_sorted):\n",
        "    waiting_States.extend(current_state.develop())\n",
        "    # sort the waiting list based on their upperbound\n",
        "    waiting_States.sort(key=lambda x: x.ub)\n",
        "    # explore the one with largest upperbound\n",
        "    current_state = waiting_States.pop()\n",
        "best_item = [item for tok, (item, _, _)\n",
        "             in zip(current_state.token, data_sorted) if tok == 1]\n",
        "\n",
        "print \"Total Value: \", current_state.benefit\n",
        "print \"Items:\", best_item"
      ],
      "execution_count": 0,
      "outputs": []
    },
    {
      "cell_type": "code",
      "metadata": {
        "id": "MkOdWecEb1Ti",
        "colab_type": "code",
        "colab": {}
      },
      "source": [
        ""
      ],
      "execution_count": 0,
      "outputs": []
    },
    {
      "cell_type": "code",
      "metadata": {
        "id": "YsUCeoiUb1P7",
        "colab_type": "code",
        "colab": {}
      },
      "source": [
        ""
      ],
      "execution_count": 0,
      "outputs": []
    }
  ]
}